{
 "cells": [
  {
   "cell_type": "code",
   "execution_count": 1,
   "id": "39550d12",
   "metadata": {},
   "outputs": [],
   "source": [
    "import pandas as pd\n",
    "import torch\n",
    "import torch.nn as nn\n",
    "import torch.optim as optim\n",
    "import numpy as np\n",
    "from sklearn.model_selection import train_test_split\n",
    "from sklearn.metrics import accuracy_score\n",
    "from sklearn.preprocessing import LabelEncoder"
   ]
  },
  {
   "cell_type": "code",
   "execution_count": 2,
   "id": "3c434b46",
   "metadata": {},
   "outputs": [],
   "source": [
    "train = pd.read_csv('train.csv')"
   ]
  },
  {
   "cell_type": "code",
   "execution_count": 3,
   "id": "a474d1da",
   "metadata": {
    "scrolled": true
   },
   "outputs": [
    {
     "name": "stdout",
     "output_type": "stream",
     "text": [
      "Column names: Index(['2', 'Stuning even for the non-gamer',\n",
      "       'This sound track was beautiful! It paints the senery in your mind so well I would recomend it even to people who hate vid. game music! I have played the game Chrono Cross but out of all of the games I have ever played it has the best music! It backs away from crude keyboarding and takes a fresher step with grate guitars and soulful orchestras. It would impress anyone who cares to listen! ^_^'],\n",
      "      dtype='object')\n"
     ]
    }
   ],
   "source": [
    "# Check the column names\n",
    "print(\"Column names:\", train.columns)\n",
    "\n",
    "# If necessary, rename columns. Assuming the columns are '1' for ratings and 'review_text' for reviews.\n",
    "train.rename(columns={'1': 'rating', 'review_text': 'review'}, inplace=True)\n"
   ]
  },
  {
   "cell_type": "code",
   "execution_count": 4,
   "id": "39857c40",
   "metadata": {},
   "outputs": [],
   "source": [
    "# Rename columns\n",
    "train.rename(columns={'2': 'rating', 'Stuning even for the non-gamer': 'review'}, inplace=True)"
   ]
  },
  {
   "cell_type": "code",
   "execution_count": 5,
   "id": "ce93be4e",
   "metadata": {},
   "outputs": [],
   "source": [
    "# Assuming 'review' contains the text data and 'rating' contains labels\n",
    "X = train['review'].values\n",
    "y = train['rating'].values\n",
    "\n",
    "# Convert labels to 0 and 1\n",
    "label_encoder = LabelEncoder()\n",
    "y = label_encoder.fit_transform(y)\n",
    "\n",
    "# For demonstration, converting text to integers\n",
    "X = [hash(str(x)) % 10000 for x in X]\n",
    "X = np.array(X).reshape(-1, 1, 1)\n"
   ]
  },
  {
   "cell_type": "code",
   "execution_count": 6,
   "id": "6d7396fb",
   "metadata": {},
   "outputs": [],
   "source": [
    "# Splitting data into train and test sets\n",
    "X_train, X_test, y_train, y_test = train_test_split(X, y, test_size=0.2, random_state=42)"
   ]
  },
  {
   "cell_type": "code",
   "execution_count": 7,
   "id": "9fcfd4c7",
   "metadata": {},
   "outputs": [],
   "source": [
    "class SimpleRNN(nn.Module):\n",
    "    def __init__(self):\n",
    "        super(SimpleRNN, self).__init__()\n",
    "        self.rnn = nn.RNN(input_size=1, hidden_size=20, batch_first=True)\n",
    "        self.fc = nn.Linear(20, 1)\n",
    "\n",
    "    def forward(self, x):\n",
    "        x, _ = self.rnn(x)\n",
    "        x = self.fc(x[:, -1, :])\n",
    "        return x\n",
    "\n",
    "model = SimpleRNN()"
   ]
  },
  {
   "cell_type": "code",
   "execution_count": 8,
   "id": "c00c4a65",
   "metadata": {},
   "outputs": [
    {
     "name": "stdout",
     "output_type": "stream",
     "text": [
      "Epoch 1, Loss: 0.8033607006072998\n",
      "Epoch 2, Loss: 0.7319759726524353\n",
      "Epoch 3, Loss: 0.7047370672225952\n",
      "Epoch 4, Loss: 0.693200945854187\n",
      "Epoch 5, Loss: 0.6943418383598328\n",
      "Epoch 6, Loss: 0.6959403157234192\n",
      "Epoch 7, Loss: 0.6971373558044434\n",
      "Epoch 8, Loss: 0.6975097060203552\n",
      "Epoch 9, Loss: 0.6970521807670593\n",
      "Epoch 10, Loss: 0.6960362195968628\n"
     ]
    }
   ],
   "source": [
    "# Initialize Loss and Optimizer\n",
    "criterion = nn.BCEWithLogitsLoss()\n",
    "optimizer = optim.Adam(model.parameters(), lr=0.01)\n",
    "\n",
    "# Convert numpy arrays to PyTorch tensors\n",
    "X_train_tensor = torch.FloatTensor(X_train)\n",
    "y_train_tensor = torch.FloatTensor(y_train).reshape(-1, 1)\n",
    "\n",
    "# Training loop\n",
    "for epoch in range(10):  # number of epochs\n",
    "    optimizer.zero_grad()\n",
    "    outputs = model(X_train_tensor)\n",
    "    loss = criterion(outputs, y_train_tensor)\n",
    "    loss.backward()\n",
    "    optimizer.step()\n",
    "    print(f'Epoch {epoch+1}, Loss: {loss.item()}')"
   ]
  },
  {
   "cell_type": "code",
   "execution_count": 9,
   "id": "ae790156",
   "metadata": {},
   "outputs": [
    {
     "name": "stdout",
     "output_type": "stream",
     "text": [
      "Accuracy: 0.5008124709129333\n"
     ]
    }
   ],
   "source": [
    "# Convert test data to PyTorch tensor\n",
    "X_test_tensor = torch.FloatTensor(X_test)\n",
    "\n",
    "# Forward pass to get the output\n",
    "with torch.no_grad():\n",
    "    outputs = model(X_test_tensor)\n",
    "    outputs = torch.sigmoid(outputs)\n",
    "    predicted = (outputs > 0.5).float()\n",
    "\n",
    "# Calculate Accuracy\n",
    "accuracy = (predicted.reshape(-1) == torch.FloatTensor(y_test)).float().mean()\n",
    "print(f'Accuracy: {accuracy.item()}')"
   ]
  },
  {
   "cell_type": "markdown",
   "id": "74a28ad1",
   "metadata": {},
   "source": [
    "# PyTorch Model with LSTM"
   ]
  },
  {
   "cell_type": "code",
   "execution_count": 10,
   "id": "51156442",
   "metadata": {},
   "outputs": [
    {
     "name": "stdout",
     "output_type": "stream",
     "text": [
      "Epoch 1, Loss: 0.7011341452598572\n",
      "Epoch 2, Loss: 0.6972042322158813\n",
      "Epoch 3, Loss: 0.6976842880249023\n",
      "Epoch 4, Loss: 0.6968285441398621\n",
      "Epoch 5, Loss: 0.6959050297737122\n",
      "Epoch 6, Loss: 0.6950064301490784\n",
      "Epoch 7, Loss: 0.6950085163116455\n",
      "Epoch 8, Loss: 0.6947450041770935\n",
      "Epoch 9, Loss: 0.6944408416748047\n",
      "Epoch 10, Loss: 0.6941607594490051\n",
      "Accuracy: 0.5011861324310303\n"
     ]
    }
   ],
   "source": [
    "\n",
    "class SimpleLSTM(nn.Module):\n",
    "    def __init__(self):\n",
    "        super(SimpleLSTM, self).__init__()\n",
    "        self.lstm = nn.LSTM(input_size=1, hidden_size=50, batch_first=True)\n",
    "        self.fc = nn.Linear(50, 1)\n",
    "        self.dropout = nn.Dropout(0.5)\n",
    "\n",
    "    def forward(self, x):\n",
    "        x, _ = self.lstm(x)\n",
    "        x = self.dropout(x)\n",
    "        x = self.fc(x[:, -1, :])\n",
    "        return x\n",
    "\n",
    "# Initialize the model, loss, and optimizer\n",
    "model = SimpleLSTM()\n",
    "criterion = nn.BCEWithLogitsLoss()\n",
    "optimizer = optim.Adam(model.parameters(), lr=0.01)\n",
    "\n",
    "# Training Loop with 10 epochs\n",
    "for epoch in range(10):\n",
    "    optimizer.zero_grad()\n",
    "    outputs = model(X_train_tensor)\n",
    "    loss = criterion(outputs, y_train_tensor)\n",
    "    loss.backward()\n",
    "    optimizer.step()\n",
    "    print(f'Epoch {epoch+1}, Loss: {loss.item()}')\n",
    "\n",
    "# Evaluation\n",
    "with torch.no_grad():\n",
    "    outputs = model(X_test_tensor)\n",
    "    outputs = torch.sigmoid(outputs)\n",
    "    predicted = (outputs > 0.5).float()\n",
    "    accuracy = (predicted.reshape(-1) == torch.FloatTensor(y_test)).float().mean()\n",
    "    print(f'Accuracy: {accuracy.item()}')\n"
   ]
  },
  {
   "cell_type": "markdown",
   "id": "2f8c98c5",
   "metadata": {},
   "source": [
    "## Enhanced LSTM Model"
   ]
  },
  {
   "cell_type": "code",
   "execution_count": 11,
   "id": "43bc6c9d",
   "metadata": {},
   "outputs": [
    {
     "name": "stdout",
     "output_type": "stream",
     "text": [
      "Epoch 1, Loss: 0.7026242613792419\n",
      "Epoch 2, Loss: 0.7141169309616089\n",
      "Epoch 3, Loss: 0.6914501786231995\n",
      "Epoch 4, Loss: 0.6944655179977417\n",
      "Epoch 5, Loss: 0.6943813562393188\n",
      "Epoch 6, Loss: 0.6998687386512756\n",
      "Epoch 7, Loss: 0.7048817276954651\n",
      "Epoch 8, Loss: 0.686941385269165\n",
      "Epoch 9, Loss: 0.7019990682601929\n",
      "Epoch 10, Loss: 0.7023907899856567\n",
      "Accuracy: 0.49933332204818726\n"
     ]
    }
   ],
   "source": [
    "import pandas as pd\n",
    "import torch\n",
    "import torch.nn as nn\n",
    "import torch.optim as optim\n",
    "from torch.utils.data import DataLoader, TensorDataset\n",
    "from sklearn.model_selection import train_test_split\n",
    "from sklearn.preprocessing import LabelEncoder\n",
    "\n",
    "# Step 1: Load and Preprocess Data\n",
    "train = pd.read_csv('train.csv')\n",
    "train.rename(columns={'2': 'rating', 'Stuning even for the non-gamer': 'review'}, inplace=True)\n",
    "X = train['review'].values\n",
    "y = train['rating'].values\n",
    "label_encoder = LabelEncoder()\n",
    "y = label_encoder.fit_transform(y)\n",
    "X = [hash(str(x)) % 10000 for x in X]\n",
    "X = np.array(X).reshape(-1, 1, 1)\n",
    "X_train, X_test, y_train, y_test = train_test_split(X, y, test_size=0.2, random_state=42)\n",
    "\n",
    "# Convert to PyTorch Tensors\n",
    "X_train_tensor = torch.FloatTensor(X_train)\n",
    "y_train_tensor = torch.FloatTensor(y_train).reshape(-1, 1)\n",
    "X_test_tensor = torch.FloatTensor(X_test)\n",
    "\n",
    "# Step 2: Create DataLoader for Batch Training\n",
    "train_data = TensorDataset(X_train_tensor, y_train_tensor)\n",
    "train_loader = DataLoader(train_data, batch_size=32, shuffle=True)\n",
    "\n",
    "# Step 3: Define Model with LSTM and Dropout\n",
    "class AdvancedLSTM(nn.Module):\n",
    "    def __init__(self):\n",
    "        super(AdvancedLSTM, self).__init__()\n",
    "        self.lstm = nn.LSTM(input_size=1, hidden_size=100, batch_first=True)  # Increased hidden_size\n",
    "        self.fc = nn.Linear(100, 1)\n",
    "        self.dropout = nn.Dropout(0.5)\n",
    "\n",
    "    def forward(self, x):\n",
    "        x, _ = self.lstm(x)\n",
    "        x = self.dropout(x)\n",
    "        x = self.fc(x[:, -1, :])\n",
    "        return x\n",
    "\n",
    "# Step 4: Initialize Model, Loss, Optimizer and Learning Rate Scheduler\n",
    "model = AdvancedLSTM()\n",
    "criterion = nn.BCEWithLogitsLoss()\n",
    "optimizer = optim.Adam(model.parameters(), lr=0.01)\n",
    "scheduler = torch.optim.lr_scheduler.StepLR(optimizer, step_size=30, gamma=0.1)  # Learning rate scheduler\n",
    "\n",
    "# Step 5: Training Loop with Early Stopping\n",
    "prev_val_loss = float('inf')\n",
    "for epoch in range(10):\n",
    "    for batch_X, batch_y in train_loader:\n",
    "        optimizer.zero_grad()\n",
    "        outputs = model(batch_X)\n",
    "        loss = criterion(outputs, batch_y)\n",
    "        loss.backward()\n",
    "        optimizer.step()\n",
    "    scheduler.step()  # Step the learning rate scheduler\n",
    "    print(f'Epoch {epoch+1}, Loss: {loss.item()}')\n",
    "    # Implement early stopping here based on validation loss\n",
    "\n",
    "# Step 6: Evaluation\n",
    "with torch.no_grad():\n",
    "    outputs = model(X_test_tensor)\n",
    "    outputs = torch.sigmoid(outputs)\n",
    "    predicted = (outputs > 0.5).float()\n",
    "    accuracy = (predicted.reshape(-1) == torch.FloatTensor(y_test)).float().mean()\n",
    "    print(f'Accuracy: {accuracy.item()}')\n"
   ]
  },
  {
   "cell_type": "code",
   "execution_count": null,
   "id": "4da52150",
   "metadata": {},
   "outputs": [],
   "source": []
  },
  {
   "cell_type": "code",
   "execution_count": null,
   "id": "af92f9a1",
   "metadata": {},
   "outputs": [],
   "source": []
  },
  {
   "cell_type": "code",
   "execution_count": null,
   "id": "0c9e6d1b",
   "metadata": {},
   "outputs": [],
   "source": []
  },
  {
   "cell_type": "code",
   "execution_count": null,
   "id": "a73b4af4",
   "metadata": {},
   "outputs": [],
   "source": []
  },
  {
   "cell_type": "code",
   "execution_count": null,
   "id": "f5c2b4e1",
   "metadata": {},
   "outputs": [],
   "source": []
  },
  {
   "cell_type": "code",
   "execution_count": null,
   "id": "ba780122",
   "metadata": {},
   "outputs": [],
   "source": []
  },
  {
   "cell_type": "code",
   "execution_count": null,
   "id": "070f15c6",
   "metadata": {},
   "outputs": [],
   "source": []
  },
  {
   "cell_type": "code",
   "execution_count": null,
   "id": "82a932bf",
   "metadata": {},
   "outputs": [],
   "source": []
  },
  {
   "cell_type": "code",
   "execution_count": null,
   "id": "eaaa7b88",
   "metadata": {},
   "outputs": [],
   "source": []
  }
 ],
 "metadata": {
  "kernelspec": {
   "display_name": "Python 3 (ipykernel)",
   "language": "python",
   "name": "python3"
  },
  "language_info": {
   "codemirror_mode": {
    "name": "ipython",
    "version": 3
   },
   "file_extension": ".py",
   "mimetype": "text/x-python",
   "name": "python",
   "nbconvert_exporter": "python",
   "pygments_lexer": "ipython3",
   "version": "3.9.13"
  }
 },
 "nbformat": 4,
 "nbformat_minor": 5
}
