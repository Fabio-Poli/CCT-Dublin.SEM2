{
 "cells": [
  {
   "cell_type": "code",
   "execution_count": 1,
   "id": "7c350b4a",
   "metadata": {
    "scrolled": false
   },
   "outputs": [
    {
     "name": "stdout",
     "output_type": "stream",
     "text": [
      "Defaulting to user installation because normal site-packages is not writeable\n",
      "Requirement already satisfied: pyspark in /usr/local/spark-3.2.4-bin-hadoop3.2/python (3.2.4)\n",
      "Requirement already satisfied: py4j==0.10.9.5 in /home/hduser/.local/lib/python3.10/site-packages (from pyspark) (0.10.9.5)\n"
     ]
    }
   ],
   "source": [
    "!pip install pyspark"
   ]
  },
  {
   "cell_type": "code",
   "execution_count": 2,
   "id": "59625b0c",
   "metadata": {},
   "outputs": [],
   "source": [
    "from pyspark.sql import SparkSession\n",
    "\n",
    "spark = SparkSession.builder.getOrCreate()"
   ]
  },
  {
   "cell_type": "code",
   "execution_count": 3,
   "id": "51765d4b",
   "metadata": {},
   "outputs": [],
   "source": [
    "from pyspark import SparkContext\n",
    "\n",
    "# Stop the existing SparkContext if any\n",
    "SparkContext.stop(sc)\n",
    "\n",
    "# Initialize a new SparkContext\n",
    "sc = SparkContext(master=\"local\", appName=\"New App\")\n"
   ]
  },
  {
   "cell_type": "code",
   "execution_count": 4,
   "id": "21ad2ccb",
   "metadata": {},
   "outputs": [],
   "source": [
    "from pyspark.sql import SparkSession\n",
    "\n",
    "spark = SparkSession \\\n",
    "    .builder \\\n",
    "    .appName(\"Customer Reviews Analysis\") \\\n",
    "    .getOrCreate()"
   ]
  },
  {
   "cell_type": "code",
   "execution_count": 5,
   "id": "b26b6482",
   "metadata": {},
   "outputs": [
    {
     "name": "stderr",
     "output_type": "stream",
     "text": [
      "                                                                                \r"
     ]
    }
   ],
   "source": [
    "test_data = spark.read.csv(\"hdfs://localhost:9000/user/hduser/CustomerReviews/test/test.csv\", header=True, inferSchema=True)\n",
    "train_data = spark.read.csv(\"hdfs://localhost:9000/user/hduser/CustomerReviews/train/train.csv\", header=True, inferSchema=True)\n"
   ]
  },
  {
   "cell_type": "code",
   "execution_count": 6,
   "id": "d859d760",
   "metadata": {},
   "outputs": [
    {
     "name": "stdout",
     "output_type": "stream",
     "text": [
      "+---+--------------------+------------------------------------------------------------------------------------------------------------------------------------------------------------------------------------------------------------------------------------------------------------------------------------------------------------------------------------------------------------------------------------------------------------+\n",
      "|  1|     mens ultrasheer|This model may be ok for sedentary types, but I'm active and get around alot in my job - consistently found these stockings rolled up down by my ankles! Not Good!! Solution: go with the standard compression stocking, 20-30, stock #114622. Excellent support, stays up and gives me what I need. Both pair of these also tore as I struggled to pull them up all the time. Good riddance/bad investment!|\n",
      "+---+--------------------+------------------------------------------------------------------------------------------------------------------------------------------------------------------------------------------------------------------------------------------------------------------------------------------------------------------------------------------------------------------------------------------------------------+\n",
      "|  4|Surprisingly deli...|                                                                                                                                                                                                                                                                                                                                                                                        This is a fast re...|\n",
      "|  2|Works, but not as...|                                                                                                                                                                                                                                                                                                                                                                                        \"I bought one of ...|\n",
      "|  2|             Oh dear|                                                                                                                                                                                                                                                                                                                                                                                        \"I was excited to...|\n",
      "|  2|     Incorrect disc!|                                                                                                                                                                                                                                                                                                                                                                                        \"I am a big JVC f...|\n",
      "|  2|      Incorrect Disc|                                                                                                                                                                                                                                                                                                                                                                                        I love the style ...|\n",
      "|  2|DVD menu select p...|                                                                                                                                                                                                                                                                                                                                                                                        I cannot scroll t...|\n",
      "|  3|My 2 y/o grandson...|                                                                                                                                                                                                                                                                                                                                                                                        This movie with a...|\n",
      "|  5|A Cookbook Every ...|                                                                                                                                                                                                                                                                                                                                                                                        I found a copy of...|\n",
      "|  3|          good basic|                                                                                                                                                                                                                                                                                                                                                                                        \"The book is a ba...|\n",
      "|  3|nice screen for a...|                                                                                                                                                                                                                                                                                                                                                                                        I compared a few ...|\n",
      "|  3|Poor maps, no hos...|                                                                                                                                                                                                                                                                                                                                                                                        It's a good book,...|\n",
      "|  2|Profound then. Tr...|                                                                                                                                                                                                                                                                                                                                                                                        The narrative sty...|\n",
      "|  1|     A complete Bust|                                                                                                                                                                                                                                                                                                                                                                                        \"This game requir...|\n",
      "|  5|Barbie as Rapunze...|                                                                                                                                                                                                                                                                                                                                                                                        I purchased this ...|\n",
      "|  5|Best Game for You...|                                                                                                                                                                                                                                                                                                                                                                                        My daughter absol...|\n",
      "|  2|Not so good - ok ...|                                                                                                                                                                                                                                                                                                                                                                                        \"This game is pre...|\n",
      "|  1|NOT OS X but MAC ...|                                                                                                                                                                                                                                                                                                                                                                                        NEGATIVE: This ga...|\n",
      "|  4|Good Program, Lot...|                                                                                                                                                                                                                                                                                                                                                                                        My 4year old real...|\n",
      "|  3|A Blast From My Past|                                                                                                                                                                                                                                                                                                                                                                                        \"I once purchased...|\n",
      "|  1|  Very disappointed!|                                                                                                                                                                                                                                                                                                                                                                                        This perfume is j...|\n",
      "+---+--------------------+------------------------------------------------------------------------------------------------------------------------------------------------------------------------------------------------------------------------------------------------------------------------------------------------------------------------------------------------------------------------------------------------------------+\n",
      "only showing top 20 rows\n",
      "\n",
      "+---+--------------------+--------------------------------------------------------------+----------------------------------+\n",
      "|  3|  more like funchuck|\"Gave this to my dad for a gag gift after directing \"\"Nunsense|\"\" he got a reall kick out of it!\"|\n",
      "+---+--------------------+--------------------------------------------------------------+----------------------------------+\n",
      "|  5|           Inspiring|                                          I hope a lot of p...|                              null|\n",
      "|  5|The best soundtra...|                                          I'm reading a lot...|                              null|\n",
      "|  4|    Chrono Cross OST|                                          \"The music of Yas...|               The Girl who Sto...|\n",
      "|  5| Too good to be true|                                          Probably the grea...|                              null|\n",
      "|  5|There's a reason ...|                                          There's a reason ...|                              null|\n",
      "|  1|        Buyer beware|                                          \"This is a self-p...|               unless you are i...|\n",
      "|  4|Errors, but great...|                                          I was a dissapoin...|                              null|\n",
      "|  1|          The Worst!|                                          A complete waste ...|                              null|\n",
      "|  1|           Oh please|                                          I guess you have ...|                              null|\n",
      "|  1|Awful beyond belief!|                                          \"I feel I have to...|               that I decided t...|\n",
      "|  4|A romantic zen ba...|                                          \"When you hear fo...|               three hysterical...|\n",
      "|  5|Lower leg comfort...|                                          Excellent stockin...|                              null|\n",
      "|  3|Delivery was very...|                                          It took almost 3 ...|                              null|\n",
      "|  2|sizes recomended ...|                                          sizes are much sm...|                              null|\n",
      "|  3|            Overbury|                                          Full of intrigue ...|                              null|\n",
      "|  1|Another Abysmal D...|                                          \"Rather than scra...|                              null|\n",
      "|  4|Wardell's book is...|                                          \"Steven Wardell's...|               they are bombard...|\n",
      "|  4|i liked this albu...|                                          \"I heard a song o...|              \"\"lanna\"\" and 'ma...|\n",
      "|  3|Better than I tho...|                                          I wrote a harsh r...|                              null|\n",
      "|  3|The great Roy Orb...|                                          When I saw the te...|                              null|\n",
      "+---+--------------------+--------------------------------------------------------------+----------------------------------+\n",
      "only showing top 20 rows\n",
      "\n",
      "root\n",
      " |-- 1: integer (nullable = true)\n",
      " |-- mens ultrasheer: string (nullable = true)\n",
      " |-- This model may be ok for sedentary types, but I'm active and get around alot in my job - consistently found these stockings rolled up down by my ankles! Not Good!! Solution: go with the standard compression stocking, 20-30, stock #114622. Excellent support, stays up and gives me what I need. Both pair of these also tore as I struggled to pull them up all the time. Good riddance/bad investment!: string (nullable = true)\n",
      "\n",
      "root\n",
      " |-- 3: integer (nullable = true)\n",
      " |-- more like funchuck: string (nullable = true)\n",
      " |-- \"Gave this to my dad for a gag gift after directing \"\"Nunsense: string (nullable = true)\n",
      " |-- \"\" he got a reall kick out of it!\": string (nullable = true)\n",
      "\n"
     ]
    }
   ],
   "source": [
    "# Show first few rows\n",
    "test_data.show()\n",
    "train_data.show()\n",
    "\n",
    "# Show schema\n",
    "test_data.printSchema()\n",
    "train_data.printSchema()"
   ]
  },
  {
   "cell_type": "code",
   "execution_count": 7,
   "id": "a2c8cb5b",
   "metadata": {},
   "outputs": [],
   "source": [
    "from pyspark.ml.feature import Tokenizer, HashingTF, IDF\n",
    "\n",
    "tokenizer = Tokenizer(inputCol=\"review_text\", outputCol=\"tokens\")\n",
    "hashingTF = HashingTF(inputCol=\"tokens\", outputCol=\"rawFeatures\")\n",
    "idf = IDF(inputCol=\"rawFeatures\", outputCol=\"features\")"
   ]
  },
  {
   "cell_type": "code",
   "execution_count": 8,
   "id": "f33a9d40",
   "metadata": {},
   "outputs": [
    {
     "name": "stderr",
     "output_type": "stream",
     "text": [
      "                                                                                \r"
     ]
    }
   ],
   "source": [
    "test_data = spark.read.csv(\n",
    "    \"hdfs://localhost:9000/user/hduser/CustomerReviews/test/test.csv\", \n",
    "    header=True, \n",
    "    inferSchema=True, \n",
    "    sep=\",\", \n",
    "    quote='\"'\n",
    ")\n"
   ]
  },
  {
   "cell_type": "code",
   "execution_count": 9,
   "id": "732dd29d",
   "metadata": {},
   "outputs": [],
   "source": [
    "from pyspark.ml import Pipeline\n",
    "from pyspark.ml.classification import LogisticRegression\n",
    "\n",
    "# Initialize classifier\n",
    "lr = LogisticRegression(labelCol=\"label\", featuresCol=\"features\")\n",
    "\n",
    "# Create pipeline\n",
    "pipeline = Pipeline(stages=[tokenizer, hashingTF, idf, lr])\n"
   ]
  },
  {
   "cell_type": "code",
   "execution_count": 10,
   "id": "84f97f21",
   "metadata": {},
   "outputs": [],
   "source": [
    "# Rename columns in test_data and train_data\n",
    "test_data = test_data.withColumnRenamed(\"1\", \"rating\") \\\n",
    "                     .withColumnRenamed(\"mens ultrasheer\", \"title\") \\\n",
    "                     .withColumnRenamed(\"This model may be ok for sedentary types, but I'm active and get around alot in my job - consistently found these stockings rolled up down by my ankles! Not Good!! Solution: go with the standard compression stocking, 20-30, stock #114622. Excellent support, stays up and gives me what I need. Both pair of these also tore as I struggled to pull them up all the time. Good riddance/bad investment!\", \"review_text\")\n",
    "\n",
    "train_data = train_data.withColumnRenamed('3', 'rating') \\\n",
    "                       .withColumnRenamed('more like funchuck', 'title') \\\n",
    "                       .withColumnRenamed('\"Gave this to my dad for a gag gift after directing \"\"Nunsense', 'review_part1') \\\n",
    "                       .withColumnRenamed('\"\" he got a reall kick out of it!\"', 'review_part2')\n",
    "\n"
   ]
  },
  {
   "cell_type": "code",
   "execution_count": 11,
   "id": "a40b1770",
   "metadata": {},
   "outputs": [
    {
     "name": "stdout",
     "output_type": "stream",
     "text": [
      "['rating', 'title', 'review_part1', 'review_part2']\n"
     ]
    }
   ],
   "source": [
    "print(train_data.columns)"
   ]
  },
  {
   "cell_type": "code",
   "execution_count": 12,
   "id": "b5ece2dd",
   "metadata": {},
   "outputs": [
    {
     "name": "stdout",
     "output_type": "stream",
     "text": [
      "['rating', 'title', 'review_text']\n"
     ]
    }
   ],
   "source": [
    "print(test_data.columns)"
   ]
  },
  {
   "cell_type": "code",
   "execution_count": 13,
   "id": "c0896764",
   "metadata": {},
   "outputs": [],
   "source": [
    "from pyspark.sql.functions import concat_ws\n",
    "\n",
    "train_data = train_data.withColumn(\"review_text\", concat_ws(\" \", train_data.review_part1, train_data.review_part2))\n"
   ]
  },
  {
   "cell_type": "code",
   "execution_count": 14,
   "id": "aea706bd",
   "metadata": {},
   "outputs": [],
   "source": [
    "train_data = train_data.withColumnRenamed(\"rating\", \"label\")"
   ]
  },
  {
   "cell_type": "code",
   "execution_count": 16,
   "id": "acd08bbc",
   "metadata": {},
   "outputs": [
    {
     "name": "stdout",
     "output_type": "stream",
     "text": [
      "Defaulting to user installation because normal site-packages is not writeable\n",
      "Requirement already satisfied: textblob in /home/hduser/.local/lib/python3.10/site-packages (0.17.1)\n",
      "Requirement already satisfied: nltk>=3.1 in /home/hduser/.local/lib/python3.10/site-packages (from textblob) (3.8.1)\n",
      "Requirement already satisfied: tqdm in /home/hduser/.local/lib/python3.10/site-packages (from nltk>=3.1->textblob) (4.66.1)\n",
      "Requirement already satisfied: click in /usr/lib/python3/dist-packages (from nltk>=3.1->textblob) (8.0.3)\n",
      "Requirement already satisfied: joblib in /home/hduser/.local/lib/python3.10/site-packages (from nltk>=3.1->textblob) (1.3.2)\n",
      "Requirement already satisfied: regex>=2021.8.3 in /home/hduser/.local/lib/python3.10/site-packages (from nltk>=3.1->textblob) (2023.8.8)\n",
      "Note: you may need to restart the kernel to use updated packages.\n"
     ]
    }
   ],
   "source": [
    "pip install textblob"
   ]
  },
  {
   "cell_type": "code",
   "execution_count": 18,
   "id": "49d05304",
   "metadata": {},
   "outputs": [
    {
     "name": "stdout",
     "output_type": "stream",
     "text": [
      "DataFrame[label: int, title: string, review_part1: string, review_part2: string, review_text: string, sentiment_score: float]\n"
     ]
    }
   ],
   "source": [
    "from pyspark.sql.functions import udf\n",
    "from pyspark.sql.types import FloatType\n",
    "# If you can install TextBlob, uncomment the next line\n",
    "# from textblob import TextBlob\n",
    "\n",
    "# Define a UDF to compute sentiment score\n",
    "def sentiment_score(text):\n",
    "    return TextBlob(text).sentiment.polarity  # If you can't install TextBlob, replace this line with your sentiment analysis logic\n",
    "\n",
    "# Register the UDF\n",
    "sentiment_score_udf = udf(sentiment_score, FloatType())\n",
    "\n",
    "# Assuming your DataFrame is named 'train_data'\n",
    "# Add sentiment score as a new column to the DataFrame\n",
    "train_data_with_sentiment = train_data.withColumn(\"sentiment_score\", sentiment_score_udf(train_data['review_text']))\n",
    "\n",
    "# Show the DataFrame with the new column\n",
    "print(train_data_with_sentiment)\n"
   ]
  },
  {
   "cell_type": "code",
   "execution_count": 19,
   "id": "5ae6088d",
   "metadata": {},
   "outputs": [],
   "source": [
    "from pyspark.ml.feature import VectorAssembler\n",
    "\n",
    "# Define stages of the pipeline\n",
    "tokenizer = Tokenizer(inputCol=\"review_text\", outputCol=\"tokens\")\n",
    "hashingTF = HashingTF(inputCol=\"tokens\", outputCol=\"rawFeatures\")\n",
    "idf = IDF(inputCol=\"rawFeatures\", outputCol=\"tfidf_features\")\n",
    "assembler = VectorAssembler(\n",
    "    inputCols=[\"tfidf_features\", \"sentiment_score\"],\n",
    "    outputCol=\"final_features\"\n",
    ")\n",
    "lr = LogisticRegression(labelCol=\"label\", featuresCol=\"final_features\")\n",
    "\n",
    "# Create pipeline\n",
    "pipeline = Pipeline(stages=[tokenizer, hashingTF, idf, assembler, lr])\n",
    "\n",
    "\n"
   ]
  },
  {
   "cell_type": "code",
   "execution_count": 26,
   "id": "f57943dc",
   "metadata": {},
   "outputs": [
    {
     "name": "stdout",
     "output_type": "stream",
     "text": [
      "root\n",
      " |-- label: integer (nullable = true)\n",
      " |-- title: string (nullable = true)\n",
      " |-- review_part1: string (nullable = true)\n",
      " |-- review_part2: string (nullable = true)\n",
      " |-- review_text: string (nullable = false)\n",
      " |-- sentiment_score: float (nullable = true)\n",
      "\n"
     ]
    }
   ],
   "source": [
    "train_data_with_sentiment.printSchema()"
   ]
  },
  {
   "cell_type": "code",
   "execution_count": null,
   "id": "a103ca1c",
   "metadata": {},
   "outputs": [],
   "source": []
  }
 ],
 "metadata": {
  "kernelspec": {
   "display_name": "Python 3 (ipykernel)",
   "language": "python",
   "name": "python3"
  },
  "language_info": {
   "codemirror_mode": {
    "name": "ipython",
    "version": 3
   },
   "file_extension": ".py",
   "mimetype": "text/x-python",
   "name": "python",
   "nbconvert_exporter": "python",
   "pygments_lexer": "ipython3",
   "version": "3.10.12"
  }
 },
 "nbformat": 4,
 "nbformat_minor": 5
}
